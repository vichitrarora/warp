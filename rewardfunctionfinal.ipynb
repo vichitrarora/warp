{
  "nbformat": 4,
  "nbformat_minor": 0,
  "metadata": {
    "colab": {
      "provenance": [],
      "authorship_tag": "ABX9TyMaVIaKsJs8v1k5p77S9YdS",
      "include_colab_link": true
    },
    "kernelspec": {
      "name": "python3",
      "display_name": "Python 3"
    },
    "language_info": {
      "name": "python"
    }
  },
  "cells": [
    {
      "cell_type": "markdown",
      "metadata": {
        "id": "view-in-github",
        "colab_type": "text"
      },
      "source": [
        "<a href=\"https://colab.research.google.com/github/vichitrarora/warp/blob/main/rewardfunctionfinal.ipynb\" target=\"_parent\"><img src=\"https://colab.research.google.com/assets/colab-badge.svg\" alt=\"Open In Colab\"/></a>"
      ]
    },
    {
      "cell_type": "code",
      "source": [
        "!pip install fuzzywuzzy"
      ],
      "metadata": {
        "colab": {
          "base_uri": "https://localhost:8080/"
        },
        "id": "ZWUkzbOJnJQr",
        "outputId": "1c0beaea-f9cf-4063-88e3-f120c2bc31eb"
      },
      "execution_count": 24,
      "outputs": [
        {
          "output_type": "stream",
          "name": "stdout",
          "text": [
            "Requirement already satisfied: fuzzywuzzy in /usr/local/lib/python3.11/dist-packages (0.18.0)\n"
          ]
        }
      ]
    },
    {
      "cell_type": "code",
      "execution_count": 25,
      "metadata": {
        "id": "2qWRaCwmnEVw"
      },
      "outputs": [],
      "source": [
        "import json\n",
        "import re\n",
        "from fuzzywuzzy import fuzz\n",
        "\n",
        "def extract_json_from_find(query: str):\n",
        "    try:\n",
        "        start = query.find(\"find(\")\n",
        "        if start == -1:\n",
        "            raise ValueError(\"⚠️ Error: Invalid MongoDB Query Format. Ensure the query is correctly formatted.\")\n",
        "        brace_start = query.find(\"{\", start)\n",
        "        if brace_start == -1:\n",
        "            raise ValueError(\"⚠️ Error: Could not find a valid JSON object in find().\")\n",
        "        stack = []\n",
        "        for i in range(brace_start, len(query)):\n",
        "            if query[i] == \"{\":\n",
        "                stack.append(i)\n",
        "            elif query[i] == \"}\":\n",
        "                stack.pop()\n",
        "                if not stack:\n",
        "                    json_text = query[brace_start:i+1]\n",
        "                    json_text = json_text.replace(\"'\", '\"')  # Ensure valid JSON\n",
        "                    return json.loads(json_text)\n",
        "    except Exception as e:\n",
        "        raise ValueError(f\"⚠️ Error parsing MongoDB query: {e}\")\n",
        "    raise ValueError(\"⚠️ Error: Mismatched braces in MongoDB query.\")\n"
      ]
    },
    {
      "cell_type": "code",
      "source": [
        "def convert_mongo_shell_to_json(mongo_shell_query: str):\n",
        "    try:\n",
        "        json_dict = json.loads(mongo_shell_query)\n",
        "        return json_dict\n",
        "    except json.JSONDecodeError:\n",
        "        try:\n",
        "            json_query = extract_json_from_find(mongo_shell_query)\n",
        "            json_dict = json.loads(json_query)\n",
        "            return json_dict\n",
        "        except (json.JSONDecodeError, ValueError) as e:\n",
        "            print(f\"⚠️ Error: {e}\")\n",
        "            return None"
      ],
      "metadata": {
        "id": "LcgYdgOV1Kdg"
      },
      "execution_count": 26,
      "outputs": []
    },
    {
      "cell_type": "code",
      "source": [
        "def convert_schema_shell_to_json(schema_shell: str):\n",
        "    try:\n",
        "        schema_json = schema_shell.replace(\"'\", '\"')\n",
        "        schema_dict = json.loads(schema_json)\n",
        "        return schema_dict\n",
        "    except json.JSONDecodeError:\n",
        "        print(\"⚠️ Error: Invalid Schema Format. Ensure it is correctly formatted.\")\n",
        "        return None"
      ],
      "metadata": {
        "id": "Yo0FnUE81Kmy"
      },
      "execution_count": 27,
      "outputs": []
    },
    {
      "cell_type": "code",
      "source": [
        "# Modified: Do not propagate ignored keys as prefix.\n",
        "def extract_fields_from_mongo(query: dict):\n",
        "    fields = set()\n",
        "    IGNORED_KEYS = {\"collection\", \"filter\"}\n",
        "    MONGO_OPERATORS = {\"$gte\", \"$lte\", \"$eq\", \"$ne\", \"$in\", \"$exists\", \"$regex\", \"$or\", \"$and\"}\n",
        "\n",
        "    def extract_keys(obj, prefix=\"\"):\n",
        "        if isinstance(obj, dict):\n",
        "            for key, value in obj.items():\n",
        "                # If key is ignored or an operator, do not add it or its key as prefix.\n",
        "                if key in IGNORED_KEYS or key in MONGO_OPERATORS:\n",
        "                    extract_keys(value, prefix)\n",
        "                else:\n",
        "                    full_key = f\"{prefix}.{key}\" if prefix else key\n",
        "                    fields.add(full_key)\n",
        "                    extract_keys(value, full_key)\n",
        "        elif isinstance(obj, list):\n",
        "            for item in obj:\n",
        "                extract_keys(item, prefix)\n",
        "    extract_keys(query)\n",
        "    return fields"
      ],
      "metadata": {
        "id": "GScI2JA91Ks4"
      },
      "execution_count": 28,
      "outputs": []
    },
    {
      "cell_type": "code",
      "source": [
        "# Modified: Extract fields differently based on schema format.\n",
        "def extract_fields_from_schema(schema: dict):\n",
        "    fields = set()\n",
        "    # Check if schema uses document format (contains \"document\" key)\n",
        "    is_document_format = any(\"document\" in val for val in schema.values() if isinstance(val, dict))\n",
        "\n",
        "    if is_document_format:\n",
        "        # For document-based schema, extract only leaf field names.\n",
        "        for collection_data in schema.values():\n",
        "            if \"document\" in collection_data and \"properties\" in collection_data[\"document\"]:\n",
        "                props = collection_data[\"document\"][\"properties\"]\n",
        "                def extract_leaf_fields(obj):\n",
        "                    leaves = set()\n",
        "                    if isinstance(obj, dict):\n",
        "                        for key, value in obj.items():\n",
        "                            if isinstance(value, dict) and \"properties\" in value:\n",
        "                                leaves |= extract_leaf_fields(value[\"properties\"])\n",
        "                            else:\n",
        "                                leaves.add(key)\n",
        "                    return leaves\n",
        "                leaves = extract_leaf_fields(props)\n",
        "                fields |= leaves\n",
        "    else:\n",
        "        # For non-document format, assume nested structure with \"fields\" keys.\n",
        "        def extract_nested_fields(obj, prefix=\"\"):\n",
        "            if isinstance(obj, dict):\n",
        "                if \"fields\" in obj and isinstance(obj[\"fields\"], list):\n",
        "                    for field in obj[\"fields\"]:\n",
        "                        full_field = f\"{prefix}.{field}\" if prefix else field\n",
        "                        fields.add(full_field)\n",
        "                else:\n",
        "                    for key, value in obj.items():\n",
        "                        new_prefix = f\"{prefix}.{key}\" if prefix else key\n",
        "                        extract_nested_fields(value, new_prefix)\n",
        "            elif isinstance(obj, list):\n",
        "                for item in obj:\n",
        "                    extract_nested_fields(item, prefix)\n",
        "        extract_nested_fields(schema)\n",
        "    return fields"
      ],
      "metadata": {
        "id": "Anc8jXcx1KyD"
      },
      "execution_count": 29,
      "outputs": []
    },
    {
      "cell_type": "code",
      "source": [
        "def extract_collection_from_mongo_query(mongo_query: str):\n",
        "    try:\n",
        "        mongo_dict = json.loads(mongo_query)\n",
        "        if \"collection\" in mongo_dict:\n",
        "            return mongo_dict[\"collection\"]\n",
        "    except json.JSONDecodeError:\n",
        "        pass\n",
        "    match = re.search(r'db\\.(\\w+)\\.find(?:One)?\\s*\\(', mongo_query)\n",
        "    return match.group(1) if match else None\n"
      ],
      "metadata": {
        "id": "mz-rxwdv1YKd"
      },
      "execution_count": 30,
      "outputs": []
    },
    {
      "cell_type": "code",
      "source": [
        "def extract_valid_collections_from_schema(schema: dict):\n",
        "    if not isinstance(schema, dict):\n",
        "        print(\"⚠️ Error: Schema is not a dictionary.\")\n",
        "        return set()\n",
        "    return set(schema.keys())"
      ],
      "metadata": {
        "id": "imONuUSi1K3a"
      },
      "execution_count": 31,
      "outputs": []
    },
    {
      "cell_type": "code",
      "source": [
        "def is_schema_linking_correct(nlp_query: str, mongo_output: dict, mongo_query: str, database: str, schema: dict, threshold=80):\n",
        "    query_fields = extract_fields_from_mongo(mongo_output)\n",
        "    schema_fields = extract_fields_from_schema(schema)\n",
        "\n",
        "    if not query_fields:\n",
        "        return 0.0\n",
        "\n",
        "    total_score = 0\n",
        "    for field in query_fields:\n",
        "        simplified_query = field.lower()\n",
        "        full_matches = []\n",
        "        best_partial = 0\n",
        "        for valid_field in schema_fields:\n",
        "            # For non-document schema, compare only the last part of the field.\n",
        "            # For document schema, fields are already leaves.\n",
        "            simplified_valid = valid_field.split(\".\")[-1].lower()\n",
        "            score = fuzz.ratio(simplified_query, simplified_valid)\n",
        "            if score >= threshold:\n",
        "                full_matches.append(valid_field)\n",
        "            if score > best_partial:\n",
        "                best_partial = score\n",
        "        if full_matches:\n",
        "            total_score += 1 / len(full_matches)\n",
        "        elif best_partial >= 50:\n",
        "            total_score += best_partial / 100\n",
        "        else:\n",
        "            total_score += 0\n",
        "    schema_score = total_score / len(query_fields) if query_fields else 0.0\n",
        "    predicted_collection = extract_collection_from_mongo_query(mongo_query)\n",
        "    valid_collections = extract_valid_collections_from_schema(schema)\n",
        "    if predicted_collection not in valid_collections:\n",
        "        schema_score *= 0.5\n",
        "    return round(schema_score, 2)"
      ],
      "metadata": {
        "id": "_YyFGfyH1cQE"
      },
      "execution_count": 32,
      "outputs": []
    },
    {
      "cell_type": "code",
      "source": [
        "nlp_query = input(\"Enter NLP Query: \")\n",
        "mongo_shell_query = input(\"Enter MongoDB Output Query (Mongo Shell Format): \")\n",
        "mongo_output = convert_mongo_shell_to_json(mongo_shell_query)\n",
        "if mongo_output is None:\n",
        "    print(\"Error: Invalid MongoDB query format. Exiting.\")\n",
        "    exit()\n",
        "database = input(\"Enter Database Name: \")\n",
        "schema_shell = input(\"Enter Schema (MongoDB Shell Format): \")\n",
        "schema = convert_schema_shell_to_json(schema_shell)\n",
        "if schema is None:\n",
        "    print(\"Error: Invalid Schema format. Exiting.\")\n",
        "    exit()\n",
        "schema_score = is_schema_linking_correct(nlp_query, mongo_output, mongo_shell_query, database, schema)\n",
        "print(f\"\\nSchema Linking Score: {schema_score:.2f}\")\n",
        "print(\"Extracted Query Fields:\", extract_fields_from_mongo(mongo_output))\n",
        "print(\"Extracted Schema Fields:\", extract_fields_from_schema(schema))\n"
      ],
      "metadata": {
        "colab": {
          "base_uri": "https://localhost:8080/"
        },
        "id": "XI6Dl5AV1cS1",
        "outputId": "055815a5-b3fb-425c-dcdc-db16c95a6968"
      },
      "execution_count": 33,
      "outputs": [
        {
          "output_type": "stream",
          "name": "stdout",
          "text": [
            "Enter NLP Query: Find users who registered in the last 6 months.\n",
            "Enter MongoDB Output Query (Mongo Shell Format): {   \"collection\": \"customers\",   \"filter\": { \"signup_date\": { \"$gte\": \"2024-09-01\" } } }\n",
            "Enter Database Name: usef\n",
            "Enter Schema (MongoDB Shell Format): {   \"users\": {     \"fields\": [\"user_id\", \"username\", \"registration_date\"]   } }\n",
            "\n",
            "Schema Linking Score: 0.28\n",
            "Extracted Query Fields: {'signup_date'}\n",
            "Extracted Schema Fields: {'users.registration_date', 'users.username', 'users.user_id'}\n"
          ]
        }
      ]
    },
    {
      "cell_type": "code",
      "source": [],
      "metadata": {
        "id": "s9ingITg1cU4"
      },
      "execution_count": 33,
      "outputs": []
    }
  ]
}