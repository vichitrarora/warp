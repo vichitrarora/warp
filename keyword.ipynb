{
  "nbformat": 4,
  "nbformat_minor": 0,
  "metadata": {
    "colab": {
      "provenance": [],
      "include_colab_link": true
    },
    "kernelspec": {
      "name": "python3",
      "display_name": "Python 3"
    },
    "language_info": {
      "name": "python"
    }
  },
  "cells": [
    {
      "cell_type": "markdown",
      "metadata": {
        "id": "view-in-github",
        "colab_type": "text"
      },
      "source": [
        "<a href=\"https://colab.research.google.com/github/vichitrarora/warp/blob/main/keyword.ipynb\" target=\"_parent\"><img src=\"https://colab.research.google.com/assets/colab-badge.svg\" alt=\"Open In Colab\"/></a>"
      ]
    },
    {
      "cell_type": "code",
      "execution_count": 1,
      "metadata": {
        "id": "QsLm3ZVx5GdF"
      },
      "outputs": [],
      "source": [
        "import json  # To convert dictionary into a set of string"
      ]
    },
    {
      "cell_type": "code",
      "source": [
        "def extract_keywords(query):\n",
        "\n",
        "    keywords = set()\n",
        "    query_str = json.dumps(query)\n",
        "\n",
        "    for key in query.keys():\n",
        "        keywords.add(key)\n",
        "        if key.startswith(\"$\"):\n",
        "            keywords.add(key)\n",
        "\n",
        "    for value in query.values():\n",
        "        if isinstance(value, dict):  # Nested queries\n",
        "            keywords.update(extract_keywords(value))\n",
        "        elif isinstance(value, str):\n",
        "            keywords.add(value)\n",
        "\n",
        "    return keywords"
      ],
      "metadata": {
        "id": "fAKTRR4U-jss"
      },
      "execution_count": 3,
      "outputs": []
    },
    {
      "cell_type": "code",
      "source": [
        "def reward_function(input_query, expected_query):\n",
        "\n",
        "    input_keywords = extract_keywords(input_query)\n",
        "    expected_keywords = extract_keywords(expected_query)\n",
        "\n",
        "    # Calculate match percentage\n",
        "    common_keywords = input_keywords.intersection(expected_keywords)\n",
        "    match_score = len(common_keywords) / max(len(expected_keywords), 1)  # Avoid division by zero\n",
        "\n",
        "    # Reward scale: 0 to 10\n",
        "    reward = round(match_score * 10, 2)  # Scale to 10\n",
        "\n",
        "    return reward\n"
      ],
      "metadata": {
        "id": "AWLGPGaA-onr"
      },
      "execution_count": 4,
      "outputs": []
    },
    {
      "cell_type": "code",
      "source": [
        "# Testing\n",
        "input_query = {\"name\": \"John\", \"age\": {\"$gte\": 25}}\n",
        "expected_query = {\"name\": \"John\", \"age\": {\"$gte\": 25, \"$lte\": 40}}\n",
        "\n",
        "reward = reward_function(input_query, expected_query)\n",
        "print(f\"Reward Score: {reward}/10\")\n"
      ],
      "metadata": {
        "colab": {
          "base_uri": "https://localhost:8080/"
        },
        "id": "JYdZl1r1-rse",
        "outputId": "b5744105-0ef2-41f7-9fd8-0118d8fe0b64"
      },
      "execution_count": 5,
      "outputs": [
        {
          "output_type": "stream",
          "name": "stdout",
          "text": [
            "Reward Score: 8.0/10\n"
          ]
        }
      ]
    }
  ]
}