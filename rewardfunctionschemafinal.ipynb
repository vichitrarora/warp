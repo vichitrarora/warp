{
  "nbformat": 4,
  "nbformat_minor": 0,
  "metadata": {
    "colab": {
      "provenance": [],
      "mount_file_id": "1gTposP_fGmHkUb-KkeJ1w3wzu-Eh_prp",
      "authorship_tag": "ABX9TyMDQp3+xbGPKY7Bf8Cg1y/4",
      "include_colab_link": true
    },
    "kernelspec": {
      "name": "python3",
      "display_name": "Python 3"
    },
    "language_info": {
      "name": "python"
    }
  },
  "cells": [
    {
      "cell_type": "markdown",
      "metadata": {
        "id": "view-in-github",
        "colab_type": "text"
      },
      "source": [
        "<a href=\"https://colab.research.google.com/github/vichitrarora/warp/blob/main/rewardfunctionschemafinal.ipynb\" target=\"_parent\"><img src=\"https://colab.research.google.com/assets/colab-badge.svg\" alt=\"Open In Colab\"/></a>"
      ]
    },
    {
      "cell_type": "code",
      "execution_count": null,
      "metadata": {
        "colab": {
          "base_uri": "https://localhost:8080/"
        },
        "id": "sKIDdjuM8sOm",
        "outputId": "331baac9-61d1-4ba4-9f6b-a6c62a25b8b4"
      },
      "outputs": [
        {
          "output_type": "stream",
          "name": "stdout",
          "text": [
            "Requirement already satisfied: fuzzywuzzy in /usr/local/lib/python3.11/dist-packages (0.18.0)\n"
          ]
        }
      ],
      "source": [
        "!pip install fuzzywuzzy"
      ]
    },
    {
      "cell_type": "code",
      "source": [
        "import json\n",
        "import re\n",
        "from fuzzywuzzy import fuzz\n",
        "\n",
        "def extract_json_from_find(query: str):\n",
        "    try:\n",
        "        start = query.find(\"find(\")\n",
        "        if start == -1:\n",
        "            raise ValueError(\"⚠️ Error: Invalid MongoDB Query Format. Ensure the query is correctly formatted.\")\n",
        "\n",
        "        brace_start = query.find(\"{\", start)\n",
        "        if brace_start == -1:\n",
        "            raise ValueError(\"⚠️ Error: Could not find a valid JSON object in find().\")\n",
        "\n",
        "        stack = []\n",
        "        for i in range(brace_start, len(query)):\n",
        "            if query[i] == \"{\":\n",
        "                stack.append(i)\n",
        "            elif query[i] == \"}\":\n",
        "                stack.pop()\n",
        "                if not stack:\n",
        "                    json_text = query[brace_start:i+1]\n",
        "\n",
        "                    # ✅ Fix: Use `json.loads()` safely after replacing single quotes\n",
        "                    json_text = json_text.replace(\"'\", '\"')  # Convert to valid JSON\n",
        "                    return json.loads(json_text)  # ✅ Ensure valid JSON parsing\n",
        "\n",
        "    except Exception as e:\n",
        "        raise ValueError(f\"⚠️ Error parsing MongoDB query: {e}\")\n",
        "\n",
        "    raise ValueError(\"⚠️ Error: Mismatched braces in MongoDB query.\")\n",
        "\n",
        "\n"
      ],
      "metadata": {
        "id": "iqK_vP7L81wr"
      },
      "execution_count": null,
      "outputs": []
    },
    {
      "cell_type": "code",
      "source": [
        "def convert_mongo_shell_to_json(mongo_shell_query: str):\n",
        "    try:\n",
        "        # First, try parsing the input directly as JSON (if it's already a valid JSON string)\n",
        "        json_dict = json.loads(mongo_shell_query)\n",
        "        return json_dict\n",
        "\n",
        "    except json.JSONDecodeError:\n",
        "        try:\n",
        "            # If not JSON, extract the JSON from MongoDB shell query\n",
        "            json_query = extract_json_from_find(mongo_shell_query)\n",
        "            json_dict = json.loads(json_query)\n",
        "            return json_dict\n",
        "        except (json.JSONDecodeError, ValueError) as e:\n",
        "            print(f\"⚠️ Error: {e}\")\n",
        "            return None"
      ],
      "metadata": {
        "id": "PAjU-6ZQ4H5J"
      },
      "execution_count": null,
      "outputs": []
    },
    {
      "cell_type": "code",
      "source": [
        "def convert_schema_shell_to_json(schema_shell: str):\n",
        "    try:\n",
        "        schema_json = schema_shell.replace(\"'\", '\"')  # Convert single quotes to double quotes\n",
        "        schema_dict = json.loads(schema_json)  # Convert to Python dictionary\n",
        "        return schema_dict\n",
        "    except json.JSONDecodeError:\n",
        "        print(\"⚠️ Error: Invalid Schema Format. Ensure it is correctly formatted.\")\n",
        "        return None"
      ],
      "metadata": {
        "id": "FwxvHhI_4ICd"
      },
      "execution_count": null,
      "outputs": []
    },
    {
      "cell_type": "code",
      "source": [
        "def extract_fields_from_mongo(query: dict):\n",
        "    fields = set()\n",
        "    IGNORED_KEYS = {\"collection\", \"filter\"}  # ✅ Ignore \"filter\"\n",
        "    MONGO_OPERATORS = {\"$gte\", \"$lte\", \"$eq\", \"$ne\", \"$in\", \"$exists\", \"$regex\", \"$or\", \"$and\"}\n",
        "\n",
        "    def extract_keys(obj):\n",
        "        if isinstance(obj, dict):\n",
        "            for key, value in obj.items():\n",
        "                if key not in IGNORED_KEYS and key not in MONGO_OPERATORS:\n",
        "                    fields.add(key)\n",
        "                extract_keys(value)  # ✅ Recursively extract deeper fields\n",
        "        elif isinstance(obj, list):\n",
        "            for item in obj:\n",
        "                extract_keys(item)\n",
        "\n",
        "    extract_keys(query)\n",
        "    return fields\n"
      ],
      "metadata": {
        "id": "eE_x7Mz34Oz2"
      },
      "execution_count": null,
      "outputs": []
    },
    {
      "cell_type": "code",
      "source": [
        "def extract_fields_from_schema(schema: dict):\n",
        "    fields = set()\n",
        "\n",
        "    # Case 1: Correct format with \"collections\"\n",
        "    if \"collections\" in schema:\n",
        "        for collection in schema[\"collections\"]:\n",
        "            if \"document\" in collection and \"properties\" in collection[\"document\"]:\n",
        "                fields.update(collection[\"document\"][\"properties\"].keys())\n",
        "\n",
        "    # Case 2: Your current format with collection names as keys\n",
        "    else:\n",
        "        for collection_name, collection_data in schema.items():\n",
        "            if \"fields\" in collection_data:\n",
        "                fields.update(collection_data[\"fields\"])\n",
        "\n",
        "    return fields\n"
      ],
      "metadata": {
        "id": "LFjswGV84IKy"
      },
      "execution_count": null,
      "outputs": []
    },
    {
      "cell_type": "code",
      "source": [
        "def extract_collection_from_mongo_query(mongo_query: str):\n",
        "    # ✅ First, check if it's a JSON dictionary\n",
        "    try:\n",
        "        mongo_dict = json.loads(mongo_query)\n",
        "        if \"collection\" in mongo_dict:\n",
        "            return mongo_dict[\"collection\"]\n",
        "    except json.JSONDecodeError:\n",
        "        pass  # If not JSON, fallback to regex\n",
        "\n",
        "    # ✅ Improve regex for MongoDB Shell format\n",
        "    match = re.search(r'db\\.(\\w+)\\.find(?:One)?\\s*\\(', mongo_query)\n",
        "    return match.group(1) if match else None\n"
      ],
      "metadata": {
        "id": "Uw8XBBbB4UG-"
      },
      "execution_count": null,
      "outputs": []
    },
    {
      "cell_type": "code",
      "source": [
        "def extract_valid_collections_from_schema(schema: dict):\n",
        "    if not isinstance(schema, dict):\n",
        "        print(\"⚠️ Error: Schema is not a dictionary.\")\n",
        "        return set()\n",
        "\n",
        "    # Handle schema in correct format\n",
        "    if \"collections\" in schema:\n",
        "        return {col.get(\"name\") for col in schema[\"collections\"] if \"name\" in col}\n",
        "\n",
        "    # Handle schema in the incorrect format (like the one you provided)\n",
        "    return set(schema.keys())  # Directly extract collection names\n"
      ],
      "metadata": {
        "id": "kkOH2hhnk7Sw"
      },
      "execution_count": null,
      "outputs": []
    },
    {
      "cell_type": "code",
      "source": [
        "def is_schema_linking_correct(nlp_query: str, mongo_output: dict, mongo_query: str, database: str, schema: dict, threshold=80):\n",
        "    query_fields = extract_fields_from_mongo(mongo_output)\n",
        "    schema_fields = extract_fields_from_schema(schema)\n",
        "\n",
        "    if not query_fields:\n",
        "        return 0.0\n",
        "\n",
        "    matched_fields = 0\n",
        "    for field in query_fields:\n",
        "        best_match_score = max(\n",
        "            (fuzz.ratio(field.lower(), valid_field.lower()) for valid_field in schema_fields),\n",
        "            default=0\n",
        "        )\n",
        "\n",
        "        # ✅ Fix: Give **partial credit** for fuzzy matches\n",
        "        if best_match_score >= threshold:\n",
        "            matched_fields += 1  # ✅ Full match\n",
        "        elif best_match_score >= 50:  # ✅ If partial match (50-79), give proportional score\n",
        "            matched_fields += best_match_score / 100\n",
        "\n",
        "    schema_score = matched_fields / len(query_fields) if query_fields else 0.0\n",
        "\n",
        "    predicted_collection = extract_collection_from_mongo_query(mongo_query)\n",
        "    valid_collections = extract_valid_collections_from_schema(schema)\n",
        "\n",
        "    if predicted_collection not in valid_collections:\n",
        "        schema_score *= 0.5  # ✅ Apply penalty if collection is wrong\n",
        "\n",
        "    return round(schema_score, 2)\n"
      ],
      "metadata": {
        "id": "bwLdbkGlk83x"
      },
      "execution_count": null,
      "outputs": []
    },
    {
      "cell_type": "code",
      "source": [
        "nlp_query = input(\"Enter NLP Query: \")\n",
        "mongo_shell_query = input(\"Enter MongoDB Output Query (Mongo Shell Format): \")\n",
        "mongo_output = convert_mongo_shell_to_json(mongo_shell_query)\n",
        "\n",
        "if mongo_output is None:\n",
        "    print(\"Error: Invalid MongoDB query format. Exiting.\")\n",
        "    exit()\n",
        "\n",
        "database = input(\"Enter Database Name: \")\n",
        "\n",
        "schema_shell = input(\"Enter Schema (MongoDB Shell Format): \")\n",
        "schema = convert_schema_shell_to_json(schema_shell)\n",
        "\n",
        "if schema is None:\n",
        "    print(\"Error: Invalid Schema format. Exiting.\")\n",
        "    exit()\n",
        "\n",
        "schema_score = is_schema_linking_correct(nlp_query, mongo_output, mongo_shell_query, database, schema)\n",
        "\n",
        "print(f\"\\nSchema Linking Score: {schema_score:.2f}\")\n",
        "\n",
        "print(\"Extracted Query Fields:\", extract_fields_from_mongo(mongo_output))\n",
        "print(\"Extracted Schema Fields:\", extract_fields_from_schema(schema))\n",
        "\n"
      ],
      "metadata": {
        "colab": {
          "base_uri": "https://localhost:8080/"
        },
        "id": "nSjaYatflCZ0",
        "outputId": "384fbea8-5064-461a-e7ac-fb3bdc17b4fb"
      },
      "execution_count": null,
      "outputs": [
        {
          "output_type": "stream",
          "name": "stdout",
          "text": [
            "Enter NLP Query: Find users who registered in the last 6 months.\n",
            "Enter MongoDB Output Query: {   \"collection\": \"customers\",   \"filter\": { \"signup_date\": { \"$gte\": \"2024-09-01\" } } }\n",
            "Enter Database Name: users_db\n",
            "Enter Schema: {   \"users\": {     \"fields\": [\"user_id\", \"username\", \"registration_date\"]   } }\n",
            "\n",
            "Schema Linking Score: 0.28\n",
            "Extracted Query Fields: {'signup_date'}\n",
            "Extracted Schema Fields: {'user_id', 'registration_date', 'username'}\n"
          ]
        }
      ]
    },
    {
      "cell_type": "code",
      "source": [],
      "metadata": {
        "id": "cdCLCUwqwJF4"
      },
      "execution_count": null,
      "outputs": []
    }
  ]
}
